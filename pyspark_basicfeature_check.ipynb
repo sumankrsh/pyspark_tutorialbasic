{
  "nbformat": 4,
  "nbformat_minor": 0,
  "metadata": {
    "colab": {
      "name": "pyspark_basicfeature_check.ipynb",
      "provenance": [],
      "collapsed_sections": [],
      "authorship_tag": "ABX9TyMFnmuBILMnl+qKQHQsYFgc",
      "include_colab_link": true
    },
    "kernelspec": {
      "name": "python3",
      "display_name": "Python 3"
    },
    "language_info": {
      "name": "python"
    }
  },
  "cells": [
    {
      "cell_type": "markdown",
      "metadata": {
        "id": "view-in-github",
        "colab_type": "text"
      },
      "source": [
        "<a href=\"https://colab.research.google.com/github/sumankrsh/pyspark_tutorialbasic/blob/main/pyspark_basicfeature_check.ipynb\" target=\"_parent\"><img src=\"https://colab.research.google.com/assets/colab-badge.svg\" alt=\"Open In Colab\"/></a>"
      ]
    },
    {
      "cell_type": "code",
      "execution_count": 1,
      "metadata": {
        "colab": {
          "base_uri": "https://localhost:8080/"
        },
        "id": "TMUVDmG1_VX8",
        "outputId": "f0c2ca2a-db38-403d-bb64-69a693f7ef80"
      },
      "outputs": [
        {
          "output_type": "stream",
          "name": "stdout",
          "text": [
            "Looking in indexes: https://pypi.org/simple, https://us-python.pkg.dev/colab-wheels/public/simple/\n",
            "Collecting pyspark\n",
            "  Downloading pyspark-3.3.0.tar.gz (281.3 MB)\n",
            "\u001b[K     |████████████████████████████████| 281.3 MB 44 kB/s \n",
            "\u001b[?25hCollecting py4j==0.10.9.5\n",
            "  Downloading py4j-0.10.9.5-py2.py3-none-any.whl (199 kB)\n",
            "\u001b[K     |████████████████████████████████| 199 kB 60.4 MB/s \n",
            "\u001b[?25hBuilding wheels for collected packages: pyspark\n",
            "  Building wheel for pyspark (setup.py) ... \u001b[?25l\u001b[?25hdone\n",
            "  Created wheel for pyspark: filename=pyspark-3.3.0-py2.py3-none-any.whl size=281764026 sha256=5e10695dffb836621f59fbd5c031358c193949f8a5461e6ac7fd532ad1c8319f\n",
            "  Stored in directory: /root/.cache/pip/wheels/7a/8e/1b/f73a52650d2e5f337708d9f6a1750d451a7349a867f928b885\n",
            "Successfully built pyspark\n",
            "Installing collected packages: py4j, pyspark\n",
            "Successfully installed py4j-0.10.9.5 pyspark-3.3.0\n"
          ]
        }
      ],
      "source": [
        "! pip install pyspark"
      ]
    },
    {
      "cell_type": "code",
      "source": [
        "import pyspark"
      ],
      "metadata": {
        "id": "TFjkUged_YI7"
      },
      "execution_count": 2,
      "outputs": []
    },
    {
      "cell_type": "code",
      "source": [
        "import pandas as pd\n",
        "#pd.read_csv('california_housing_test.csv')\n",
        "\n",
        "pd.read_csv('sample_training_data.csv')"
      ],
      "metadata": {
        "colab": {
          "base_uri": "https://localhost:8080/",
          "height": 1325
        },
        "id": "69MNySEU_3Ql",
        "outputId": "deffa165-c106-4d7b-b8be-67d2b08701ff"
      },
      "execution_count": 6,
      "outputs": [
        {
          "output_type": "execute_result",
          "data": {
            "text/plain": [
              "     Unnamed: 0                             patientId patientSex  patientAge  \\\n",
              "0             0  133a1f56-1ab0-4df7-8e1b-4a6293934f3a          F          32   \n",
              "1             1  9ee07fd5-612d-4a33-89a6-12fa8ce9bb48          M          31   \n",
              "2             2  dd7017f1-8ff4-4854-9471-9e885a1b7627          M          68   \n",
              "3             3  2af7c7b5-4b57-470a-9b31-1f167e3e500a          M          62   \n",
              "4             4  17e0f44b-39d6-4e3f-abd0-066fd94ee6de          M          56   \n",
              "..          ...                                   ...        ...         ...   \n",
              "995         995  ad587880-a108-4b52-bf4a-28d248bb1539          M          52   \n",
              "996         996  0d2bc8b2-2340-4deb-b29c-ae4da8fa5764          M          63   \n",
              "997         997  6f0739c0-39c6-45d4-bd64-c1f164c00e21          M          34   \n",
              "998         998  8f54d530-066c-4a62-8d66-10293a8fe7d9          F          58   \n",
              "999         999  606399ca-67b1-438f-91b3-de7d1914a7e8          F          42   \n",
              "\n",
              "    Modality ViewPosition BodyPartExamined ConversionType  \\\n",
              "0         CR           AP            CHEST            WSD   \n",
              "1         CR           AP            CHEST            WSD   \n",
              "2         CR           PA            CHEST            WSD   \n",
              "3         CR           PA            CHEST            WSD   \n",
              "4         CR           AP            CHEST            WSD   \n",
              "..       ...          ...              ...            ...   \n",
              "995       CR           AP            CHEST            WSD   \n",
              "996       CR           PA            CHEST            WSD   \n",
              "997       CR           PA            CHEST            WSD   \n",
              "998       CR           AP            CHEST            WSD   \n",
              "999       CR           AP            CHEST            WSD   \n",
              "\n",
              "                                   PixelSpacing      x      y  width  height  \\\n",
              "0                                [0.168, 0.168]  235.0  550.0  178.0   183.0   \n",
              "1                                [0.171, 0.171]  292.0  123.0  309.0   679.0   \n",
              "2    [0.14300000000000002, 0.14300000000000002]    NaN    NaN    NaN     NaN   \n",
              "3    [0.14300000000000002, 0.14300000000000002]  201.0  542.0  213.0    87.0   \n",
              "4                                [0.168, 0.168]  190.0  244.0  259.0   291.0   \n",
              "..                                          ...    ...    ...    ...     ...   \n",
              "995                              [0.168, 0.168]  224.0  405.0  135.0   315.0   \n",
              "996  [0.19431099999999998, 0.19431099999999998]  638.0  438.0  135.0   118.0   \n",
              "997  [0.14300000000000002, 0.14300000000000002]    NaN    NaN    NaN     NaN   \n",
              "998                              [0.168, 0.168]    NaN    NaN    NaN     NaN   \n",
              "999                              [0.139, 0.139]    NaN    NaN    NaN     NaN   \n",
              "\n",
              "     Target                         class  number_of_boxes  \n",
              "0         1                  Lung Opacity                9  \n",
              "1         1                  Lung Opacity                4  \n",
              "2         0  No Lung Opacity / Not Normal                1  \n",
              "3         1                  Lung Opacity                1  \n",
              "4         1                  Lung Opacity                9  \n",
              "..      ...                           ...              ...  \n",
              "995       1                  Lung Opacity                4  \n",
              "996       1                  Lung Opacity                4  \n",
              "997       0  No Lung Opacity / Not Normal                1  \n",
              "998       0  No Lung Opacity / Not Normal                1  \n",
              "999       0  No Lung Opacity / Not Normal                1  \n",
              "\n",
              "[1000 rows x 16 columns]"
            ],
            "text/html": [
              "\n",
              "  <div id=\"df-fb18e690-b36c-4d1d-ac14-dd81c04575ad\">\n",
              "    <div class=\"colab-df-container\">\n",
              "      <div>\n",
              "<style scoped>\n",
              "    .dataframe tbody tr th:only-of-type {\n",
              "        vertical-align: middle;\n",
              "    }\n",
              "\n",
              "    .dataframe tbody tr th {\n",
              "        vertical-align: top;\n",
              "    }\n",
              "\n",
              "    .dataframe thead th {\n",
              "        text-align: right;\n",
              "    }\n",
              "</style>\n",
              "<table border=\"1\" class=\"dataframe\">\n",
              "  <thead>\n",
              "    <tr style=\"text-align: right;\">\n",
              "      <th></th>\n",
              "      <th>Unnamed: 0</th>\n",
              "      <th>patientId</th>\n",
              "      <th>patientSex</th>\n",
              "      <th>patientAge</th>\n",
              "      <th>Modality</th>\n",
              "      <th>ViewPosition</th>\n",
              "      <th>BodyPartExamined</th>\n",
              "      <th>ConversionType</th>\n",
              "      <th>PixelSpacing</th>\n",
              "      <th>x</th>\n",
              "      <th>y</th>\n",
              "      <th>width</th>\n",
              "      <th>height</th>\n",
              "      <th>Target</th>\n",
              "      <th>class</th>\n",
              "      <th>number_of_boxes</th>\n",
              "    </tr>\n",
              "  </thead>\n",
              "  <tbody>\n",
              "    <tr>\n",
              "      <th>0</th>\n",
              "      <td>0</td>\n",
              "      <td>133a1f56-1ab0-4df7-8e1b-4a6293934f3a</td>\n",
              "      <td>F</td>\n",
              "      <td>32</td>\n",
              "      <td>CR</td>\n",
              "      <td>AP</td>\n",
              "      <td>CHEST</td>\n",
              "      <td>WSD</td>\n",
              "      <td>[0.168, 0.168]</td>\n",
              "      <td>235.0</td>\n",
              "      <td>550.0</td>\n",
              "      <td>178.0</td>\n",
              "      <td>183.0</td>\n",
              "      <td>1</td>\n",
              "      <td>Lung Opacity</td>\n",
              "      <td>9</td>\n",
              "    </tr>\n",
              "    <tr>\n",
              "      <th>1</th>\n",
              "      <td>1</td>\n",
              "      <td>9ee07fd5-612d-4a33-89a6-12fa8ce9bb48</td>\n",
              "      <td>M</td>\n",
              "      <td>31</td>\n",
              "      <td>CR</td>\n",
              "      <td>AP</td>\n",
              "      <td>CHEST</td>\n",
              "      <td>WSD</td>\n",
              "      <td>[0.171, 0.171]</td>\n",
              "      <td>292.0</td>\n",
              "      <td>123.0</td>\n",
              "      <td>309.0</td>\n",
              "      <td>679.0</td>\n",
              "      <td>1</td>\n",
              "      <td>Lung Opacity</td>\n",
              "      <td>4</td>\n",
              "    </tr>\n",
              "    <tr>\n",
              "      <th>2</th>\n",
              "      <td>2</td>\n",
              "      <td>dd7017f1-8ff4-4854-9471-9e885a1b7627</td>\n",
              "      <td>M</td>\n",
              "      <td>68</td>\n",
              "      <td>CR</td>\n",
              "      <td>PA</td>\n",
              "      <td>CHEST</td>\n",
              "      <td>WSD</td>\n",
              "      <td>[0.14300000000000002, 0.14300000000000002]</td>\n",
              "      <td>NaN</td>\n",
              "      <td>NaN</td>\n",
              "      <td>NaN</td>\n",
              "      <td>NaN</td>\n",
              "      <td>0</td>\n",
              "      <td>No Lung Opacity / Not Normal</td>\n",
              "      <td>1</td>\n",
              "    </tr>\n",
              "    <tr>\n",
              "      <th>3</th>\n",
              "      <td>3</td>\n",
              "      <td>2af7c7b5-4b57-470a-9b31-1f167e3e500a</td>\n",
              "      <td>M</td>\n",
              "      <td>62</td>\n",
              "      <td>CR</td>\n",
              "      <td>PA</td>\n",
              "      <td>CHEST</td>\n",
              "      <td>WSD</td>\n",
              "      <td>[0.14300000000000002, 0.14300000000000002]</td>\n",
              "      <td>201.0</td>\n",
              "      <td>542.0</td>\n",
              "      <td>213.0</td>\n",
              "      <td>87.0</td>\n",
              "      <td>1</td>\n",
              "      <td>Lung Opacity</td>\n",
              "      <td>1</td>\n",
              "    </tr>\n",
              "    <tr>\n",
              "      <th>4</th>\n",
              "      <td>4</td>\n",
              "      <td>17e0f44b-39d6-4e3f-abd0-066fd94ee6de</td>\n",
              "      <td>M</td>\n",
              "      <td>56</td>\n",
              "      <td>CR</td>\n",
              "      <td>AP</td>\n",
              "      <td>CHEST</td>\n",
              "      <td>WSD</td>\n",
              "      <td>[0.168, 0.168]</td>\n",
              "      <td>190.0</td>\n",
              "      <td>244.0</td>\n",
              "      <td>259.0</td>\n",
              "      <td>291.0</td>\n",
              "      <td>1</td>\n",
              "      <td>Lung Opacity</td>\n",
              "      <td>9</td>\n",
              "    </tr>\n",
              "    <tr>\n",
              "      <th>...</th>\n",
              "      <td>...</td>\n",
              "      <td>...</td>\n",
              "      <td>...</td>\n",
              "      <td>...</td>\n",
              "      <td>...</td>\n",
              "      <td>...</td>\n",
              "      <td>...</td>\n",
              "      <td>...</td>\n",
              "      <td>...</td>\n",
              "      <td>...</td>\n",
              "      <td>...</td>\n",
              "      <td>...</td>\n",
              "      <td>...</td>\n",
              "      <td>...</td>\n",
              "      <td>...</td>\n",
              "      <td>...</td>\n",
              "    </tr>\n",
              "    <tr>\n",
              "      <th>995</th>\n",
              "      <td>995</td>\n",
              "      <td>ad587880-a108-4b52-bf4a-28d248bb1539</td>\n",
              "      <td>M</td>\n",
              "      <td>52</td>\n",
              "      <td>CR</td>\n",
              "      <td>AP</td>\n",
              "      <td>CHEST</td>\n",
              "      <td>WSD</td>\n",
              "      <td>[0.168, 0.168]</td>\n",
              "      <td>224.0</td>\n",
              "      <td>405.0</td>\n",
              "      <td>135.0</td>\n",
              "      <td>315.0</td>\n",
              "      <td>1</td>\n",
              "      <td>Lung Opacity</td>\n",
              "      <td>4</td>\n",
              "    </tr>\n",
              "    <tr>\n",
              "      <th>996</th>\n",
              "      <td>996</td>\n",
              "      <td>0d2bc8b2-2340-4deb-b29c-ae4da8fa5764</td>\n",
              "      <td>M</td>\n",
              "      <td>63</td>\n",
              "      <td>CR</td>\n",
              "      <td>PA</td>\n",
              "      <td>CHEST</td>\n",
              "      <td>WSD</td>\n",
              "      <td>[0.19431099999999998, 0.19431099999999998]</td>\n",
              "      <td>638.0</td>\n",
              "      <td>438.0</td>\n",
              "      <td>135.0</td>\n",
              "      <td>118.0</td>\n",
              "      <td>1</td>\n",
              "      <td>Lung Opacity</td>\n",
              "      <td>4</td>\n",
              "    </tr>\n",
              "    <tr>\n",
              "      <th>997</th>\n",
              "      <td>997</td>\n",
              "      <td>6f0739c0-39c6-45d4-bd64-c1f164c00e21</td>\n",
              "      <td>M</td>\n",
              "      <td>34</td>\n",
              "      <td>CR</td>\n",
              "      <td>PA</td>\n",
              "      <td>CHEST</td>\n",
              "      <td>WSD</td>\n",
              "      <td>[0.14300000000000002, 0.14300000000000002]</td>\n",
              "      <td>NaN</td>\n",
              "      <td>NaN</td>\n",
              "      <td>NaN</td>\n",
              "      <td>NaN</td>\n",
              "      <td>0</td>\n",
              "      <td>No Lung Opacity / Not Normal</td>\n",
              "      <td>1</td>\n",
              "    </tr>\n",
              "    <tr>\n",
              "      <th>998</th>\n",
              "      <td>998</td>\n",
              "      <td>8f54d530-066c-4a62-8d66-10293a8fe7d9</td>\n",
              "      <td>F</td>\n",
              "      <td>58</td>\n",
              "      <td>CR</td>\n",
              "      <td>AP</td>\n",
              "      <td>CHEST</td>\n",
              "      <td>WSD</td>\n",
              "      <td>[0.168, 0.168]</td>\n",
              "      <td>NaN</td>\n",
              "      <td>NaN</td>\n",
              "      <td>NaN</td>\n",
              "      <td>NaN</td>\n",
              "      <td>0</td>\n",
              "      <td>No Lung Opacity / Not Normal</td>\n",
              "      <td>1</td>\n",
              "    </tr>\n",
              "    <tr>\n",
              "      <th>999</th>\n",
              "      <td>999</td>\n",
              "      <td>606399ca-67b1-438f-91b3-de7d1914a7e8</td>\n",
              "      <td>F</td>\n",
              "      <td>42</td>\n",
              "      <td>CR</td>\n",
              "      <td>AP</td>\n",
              "      <td>CHEST</td>\n",
              "      <td>WSD</td>\n",
              "      <td>[0.139, 0.139]</td>\n",
              "      <td>NaN</td>\n",
              "      <td>NaN</td>\n",
              "      <td>NaN</td>\n",
              "      <td>NaN</td>\n",
              "      <td>0</td>\n",
              "      <td>No Lung Opacity / Not Normal</td>\n",
              "      <td>1</td>\n",
              "    </tr>\n",
              "  </tbody>\n",
              "</table>\n",
              "<p>1000 rows × 16 columns</p>\n",
              "</div>\n",
              "      <button class=\"colab-df-convert\" onclick=\"convertToInteractive('df-fb18e690-b36c-4d1d-ac14-dd81c04575ad')\"\n",
              "              title=\"Convert this dataframe to an interactive table.\"\n",
              "              style=\"display:none;\">\n",
              "        \n",
              "  <svg xmlns=\"http://www.w3.org/2000/svg\" height=\"24px\"viewBox=\"0 0 24 24\"\n",
              "       width=\"24px\">\n",
              "    <path d=\"M0 0h24v24H0V0z\" fill=\"none\"/>\n",
              "    <path d=\"M18.56 5.44l.94 2.06.94-2.06 2.06-.94-2.06-.94-.94-2.06-.94 2.06-2.06.94zm-11 1L8.5 8.5l.94-2.06 2.06-.94-2.06-.94L8.5 2.5l-.94 2.06-2.06.94zm10 10l.94 2.06.94-2.06 2.06-.94-2.06-.94-.94-2.06-.94 2.06-2.06.94z\"/><path d=\"M17.41 7.96l-1.37-1.37c-.4-.4-.92-.59-1.43-.59-.52 0-1.04.2-1.43.59L10.3 9.45l-7.72 7.72c-.78.78-.78 2.05 0 2.83L4 21.41c.39.39.9.59 1.41.59.51 0 1.02-.2 1.41-.59l7.78-7.78 2.81-2.81c.8-.78.8-2.07 0-2.86zM5.41 20L4 18.59l7.72-7.72 1.47 1.35L5.41 20z\"/>\n",
              "  </svg>\n",
              "      </button>\n",
              "      \n",
              "  <style>\n",
              "    .colab-df-container {\n",
              "      display:flex;\n",
              "      flex-wrap:wrap;\n",
              "      gap: 12px;\n",
              "    }\n",
              "\n",
              "    .colab-df-convert {\n",
              "      background-color: #E8F0FE;\n",
              "      border: none;\n",
              "      border-radius: 50%;\n",
              "      cursor: pointer;\n",
              "      display: none;\n",
              "      fill: #1967D2;\n",
              "      height: 32px;\n",
              "      padding: 0 0 0 0;\n",
              "      width: 32px;\n",
              "    }\n",
              "\n",
              "    .colab-df-convert:hover {\n",
              "      background-color: #E2EBFA;\n",
              "      box-shadow: 0px 1px 2px rgba(60, 64, 67, 0.3), 0px 1px 3px 1px rgba(60, 64, 67, 0.15);\n",
              "      fill: #174EA6;\n",
              "    }\n",
              "\n",
              "    [theme=dark] .colab-df-convert {\n",
              "      background-color: #3B4455;\n",
              "      fill: #D2E3FC;\n",
              "    }\n",
              "\n",
              "    [theme=dark] .colab-df-convert:hover {\n",
              "      background-color: #434B5C;\n",
              "      box-shadow: 0px 1px 3px 1px rgba(0, 0, 0, 0.15);\n",
              "      filter: drop-shadow(0px 1px 2px rgba(0, 0, 0, 0.3));\n",
              "      fill: #FFFFFF;\n",
              "    }\n",
              "  </style>\n",
              "\n",
              "      <script>\n",
              "        const buttonEl =\n",
              "          document.querySelector('#df-fb18e690-b36c-4d1d-ac14-dd81c04575ad button.colab-df-convert');\n",
              "        buttonEl.style.display =\n",
              "          google.colab.kernel.accessAllowed ? 'block' : 'none';\n",
              "\n",
              "        async function convertToInteractive(key) {\n",
              "          const element = document.querySelector('#df-fb18e690-b36c-4d1d-ac14-dd81c04575ad');\n",
              "          const dataTable =\n",
              "            await google.colab.kernel.invokeFunction('convertToInteractive',\n",
              "                                                     [key], {});\n",
              "          if (!dataTable) return;\n",
              "\n",
              "          const docLinkHtml = 'Like what you see? Visit the ' +\n",
              "            '<a target=\"_blank\" href=https://colab.research.google.com/notebooks/data_table.ipynb>data table notebook</a>'\n",
              "            + ' to learn more about interactive tables.';\n",
              "          element.innerHTML = '';\n",
              "          dataTable['output_type'] = 'display_data';\n",
              "          await google.colab.output.renderOutput(dataTable, element);\n",
              "          const docLink = document.createElement('div');\n",
              "          docLink.innerHTML = docLinkHtml;\n",
              "          element.appendChild(docLink);\n",
              "        }\n",
              "      </script>\n",
              "    </div>\n",
              "  </div>\n",
              "  "
            ]
          },
          "metadata": {},
          "execution_count": 6
        }
      ]
    },
    {
      "cell_type": "code",
      "source": [
        "from pyspark.sql import SparkSession"
      ],
      "metadata": {
        "id": "MY3SSWjGEsoL"
      },
      "execution_count": 7,
      "outputs": []
    },
    {
      "cell_type": "code",
      "source": [
        "SP=SparkSession.builder.appName('test').getOrCreate()"
      ],
      "metadata": {
        "id": "aMJFzaTuFzDT"
      },
      "execution_count": 8,
      "outputs": []
    },
    {
      "cell_type": "code",
      "source": [
        "SP"
      ],
      "metadata": {
        "colab": {
          "base_uri": "https://localhost:8080/",
          "height": 218
        },
        "id": "Q8_rg6mSGcpH",
        "outputId": "a2446b0b-6880-4682-a7ba-da0d8b119f6f"
      },
      "execution_count": 9,
      "outputs": [
        {
          "output_type": "execute_result",
          "data": {
            "text/plain": [
              "<pyspark.sql.session.SparkSession at 0x7fbea4254cd0>"
            ],
            "text/html": [
              "\n",
              "            <div>\n",
              "                <p><b>SparkSession - in-memory</b></p>\n",
              "                \n",
              "        <div>\n",
              "            <p><b>SparkContext</b></p>\n",
              "\n",
              "            <p><a href=\"http://25cd80ad06e9:4040\">Spark UI</a></p>\n",
              "\n",
              "            <dl>\n",
              "              <dt>Version</dt>\n",
              "                <dd><code>v3.3.0</code></dd>\n",
              "              <dt>Master</dt>\n",
              "                <dd><code>local[*]</code></dd>\n",
              "              <dt>AppName</dt>\n",
              "                <dd><code>test</code></dd>\n",
              "            </dl>\n",
              "        </div>\n",
              "        \n",
              "            </div>\n",
              "        "
            ]
          },
          "metadata": {},
          "execution_count": 9
        }
      ]
    },
    {
      "cell_type": "code",
      "source": [
        "df_SP=SP.read.csv('sample_training_data.csv')"
      ],
      "metadata": {
        "id": "DZonQX2YHA3p"
      },
      "execution_count": 10,
      "outputs": []
    },
    {
      "cell_type": "code",
      "source": [
        "df_SP"
      ],
      "metadata": {
        "id": "esExC7GxHxdD",
        "colab": {
          "base_uri": "https://localhost:8080/"
        },
        "outputId": "ff738be9-0b56-4100-e51e-d6caa56af3f8"
      },
      "execution_count": 11,
      "outputs": [
        {
          "output_type": "execute_result",
          "data": {
            "text/plain": [
              "DataFrame[_c0: string, _c1: string, _c2: string, _c3: string, _c4: string, _c5: string, _c6: string, _c7: string, _c8: string, _c9: string, _c10: string, _c11: string, _c12: string, _c13: string, _c14: string, _c15: string]"
            ]
          },
          "metadata": {},
          "execution_count": 11
        }
      ]
    },
    {
      "cell_type": "code",
      "source": [
        "df_SP.show()"
      ],
      "metadata": {
        "colab": {
          "base_uri": "https://localhost:8080/"
        },
        "id": "Ml0FbZ8_cUy_",
        "outputId": "0fd45626-8e6e-45f3-c7b9-88ed6b5fe979"
      },
      "execution_count": 12,
      "outputs": [
        {
          "output_type": "stream",
          "name": "stdout",
          "text": [
            "+----+--------------------+----------+----------+--------+------------+----------------+--------------+--------------------+-----+-----+-----+------+------+--------------------+---------------+\n",
            "| _c0|                 _c1|       _c2|       _c3|     _c4|         _c5|             _c6|           _c7|                 _c8|  _c9| _c10| _c11|  _c12|  _c13|                _c14|           _c15|\n",
            "+----+--------------------+----------+----------+--------+------------+----------------+--------------+--------------------+-----+-----+-----+------+------+--------------------+---------------+\n",
            "|null|           patientId|patientSex|patientAge|Modality|ViewPosition|BodyPartExamined|ConversionType|        PixelSpacing|    x|    y|width|height|Target|               class|number_of_boxes|\n",
            "|   0|133a1f56-1ab0-4df...|         F|        32|      CR|          AP|           CHEST|           WSD|      [0.168, 0.168]|235.0|550.0|178.0| 183.0|     1|        Lung Opacity|              9|\n",
            "|   1|9ee07fd5-612d-4a3...|         M|        31|      CR|          AP|           CHEST|           WSD|      [0.171, 0.171]|292.0|123.0|309.0| 679.0|     1|        Lung Opacity|              4|\n",
            "|   2|dd7017f1-8ff4-485...|         M|        68|      CR|          PA|           CHEST|           WSD|[0.14300000000000...| null| null| null|  null|     0|No Lung Opacity /...|              1|\n",
            "|   3|2af7c7b5-4b57-470...|         M|        62|      CR|          PA|           CHEST|           WSD|[0.14300000000000...|201.0|542.0|213.0|  87.0|     1|        Lung Opacity|              1|\n",
            "|   4|17e0f44b-39d6-4e3...|         M|        56|      CR|          AP|           CHEST|           WSD|      [0.168, 0.168]|190.0|244.0|259.0| 291.0|     1|        Lung Opacity|              9|\n",
            "|   5|3685fe73-c5fe-47d...|         M|        17|      CR|          AP|           CHEST|           WSD|      [0.139, 0.139]|214.0|641.0|248.0| 214.0|     1|        Lung Opacity|              4|\n",
            "|   6|75d91c02-dac0-493...|         F|        43|      CR|          PA|           CHEST|           WSD|[0.14300000000000...| null| null| null|  null|     0|              Normal|              1|\n",
            "|   7|812f09b2-bdb0-473...|         F|        53|      CR|          PA|           CHEST|           WSD|[0.14300000000000...| null| null| null|  null|     0|No Lung Opacity /...|              1|\n",
            "|   8|7c756321-18a2-430...|         M|        25|      CR|          PA|           CHEST|           WSD|[0.14300000000000...| null| null| null|  null|     0|              Normal|              1|\n",
            "|   9|ccb06817-dd39-47f...|         M|        32|      CR|          AP|           CHEST|           WSD|      [0.168, 0.168]|218.0|113.0|295.0| 525.0|     1|        Lung Opacity|              4|\n",
            "|  10|b38cc4d8-f90d-405...|         F|        48|      CR|          AP|           CHEST|           WSD|      [0.168, 0.168]|228.0|410.0|261.0| 226.0|     1|        Lung Opacity|              4|\n",
            "|  11|88e30597-cf5a-4f8...|         M|        58|      CR|          PA|           CHEST|           WSD|[0.14300000000000...| null| null| null|  null|     0|No Lung Opacity /...|              1|\n",
            "|  12|3275fe4e-18e7-4fe...|         M|        63|      CR|          AP|           CHEST|           WSD|      [0.171, 0.171]|612.0|669.0|199.0| 150.0|     1|        Lung Opacity|              1|\n",
            "|  13|a3a15e9c-71d6-440...|         F|        23|      CR|          AP|           CHEST|           WSD|      [0.168, 0.168]|162.0|420.0|204.0| 315.0|     1|        Lung Opacity|              4|\n",
            "|  14|8a2f2a7e-6692-400...|         F|        44|      CR|          PA|           CHEST|           WSD|      [0.168, 0.168]| null| null| null|  null|     0|              Normal|              1|\n",
            "|  15|34e283d8-3c14-4d4...|         M|        47|      CR|          AP|           CHEST|           WSD|      [0.168, 0.168]|626.0|409.0|214.0| 403.0|     1|        Lung Opacity|              4|\n",
            "|  16|693ad3cb-222c-4f8...|         F|        71|      CR|          PA|           CHEST|           WSD|      [0.139, 0.139]| null| null| null|  null|     0|No Lung Opacity /...|              1|\n",
            "|  17|c08f10a9-1c81-4c8...|         M|        71|      CR|          PA|           CHEST|           WSD|[0.14300000000000...|578.0|668.0|350.0| 179.0|     1|        Lung Opacity|              4|\n",
            "|  18|b006df68-f367-494...|         M|        40|      CR|          AP|           CHEST|           WSD|      [0.139, 0.139]|157.0|228.0|254.0| 537.0|     1|        Lung Opacity|              4|\n",
            "+----+--------------------+----------+----------+--------+------------+----------------+--------------+--------------------+-----+-----+-----+------+------+--------------------+---------------+\n",
            "only showing top 20 rows\n",
            "\n"
          ]
        }
      ]
    },
    {
      "cell_type": "code",
      "source": [
        "df_SP=SP.read.option('header','true').csv('sample_training_data.csv')"
      ],
      "metadata": {
        "id": "w-GS7TY5ccdl"
      },
      "execution_count": 15,
      "outputs": []
    },
    {
      "cell_type": "code",
      "source": [
        "df_SP.show()"
      ],
      "metadata": {
        "colab": {
          "base_uri": "https://localhost:8080/"
        },
        "id": "WSzYMPYpcxd6",
        "outputId": "39f7d133-3ccc-433f-e53a-2aea9ea8df85"
      },
      "execution_count": 16,
      "outputs": [
        {
          "output_type": "stream",
          "name": "stdout",
          "text": [
            "+---+--------------------+----------+----------+--------+------------+----------------+--------------+--------------------+-----+-----+-----+------+------+--------------------+---------------+\n",
            "|_c0|           patientId|patientSex|patientAge|Modality|ViewPosition|BodyPartExamined|ConversionType|        PixelSpacing|    x|    y|width|height|Target|               class|number_of_boxes|\n",
            "+---+--------------------+----------+----------+--------+------------+----------------+--------------+--------------------+-----+-----+-----+------+------+--------------------+---------------+\n",
            "|  0|133a1f56-1ab0-4df...|         F|        32|      CR|          AP|           CHEST|           WSD|      [0.168, 0.168]|235.0|550.0|178.0| 183.0|     1|        Lung Opacity|              9|\n",
            "|  1|9ee07fd5-612d-4a3...|         M|        31|      CR|          AP|           CHEST|           WSD|      [0.171, 0.171]|292.0|123.0|309.0| 679.0|     1|        Lung Opacity|              4|\n",
            "|  2|dd7017f1-8ff4-485...|         M|        68|      CR|          PA|           CHEST|           WSD|[0.14300000000000...| null| null| null|  null|     0|No Lung Opacity /...|              1|\n",
            "|  3|2af7c7b5-4b57-470...|         M|        62|      CR|          PA|           CHEST|           WSD|[0.14300000000000...|201.0|542.0|213.0|  87.0|     1|        Lung Opacity|              1|\n",
            "|  4|17e0f44b-39d6-4e3...|         M|        56|      CR|          AP|           CHEST|           WSD|      [0.168, 0.168]|190.0|244.0|259.0| 291.0|     1|        Lung Opacity|              9|\n",
            "|  5|3685fe73-c5fe-47d...|         M|        17|      CR|          AP|           CHEST|           WSD|      [0.139, 0.139]|214.0|641.0|248.0| 214.0|     1|        Lung Opacity|              4|\n",
            "|  6|75d91c02-dac0-493...|         F|        43|      CR|          PA|           CHEST|           WSD|[0.14300000000000...| null| null| null|  null|     0|              Normal|              1|\n",
            "|  7|812f09b2-bdb0-473...|         F|        53|      CR|          PA|           CHEST|           WSD|[0.14300000000000...| null| null| null|  null|     0|No Lung Opacity /...|              1|\n",
            "|  8|7c756321-18a2-430...|         M|        25|      CR|          PA|           CHEST|           WSD|[0.14300000000000...| null| null| null|  null|     0|              Normal|              1|\n",
            "|  9|ccb06817-dd39-47f...|         M|        32|      CR|          AP|           CHEST|           WSD|      [0.168, 0.168]|218.0|113.0|295.0| 525.0|     1|        Lung Opacity|              4|\n",
            "| 10|b38cc4d8-f90d-405...|         F|        48|      CR|          AP|           CHEST|           WSD|      [0.168, 0.168]|228.0|410.0|261.0| 226.0|     1|        Lung Opacity|              4|\n",
            "| 11|88e30597-cf5a-4f8...|         M|        58|      CR|          PA|           CHEST|           WSD|[0.14300000000000...| null| null| null|  null|     0|No Lung Opacity /...|              1|\n",
            "| 12|3275fe4e-18e7-4fe...|         M|        63|      CR|          AP|           CHEST|           WSD|      [0.171, 0.171]|612.0|669.0|199.0| 150.0|     1|        Lung Opacity|              1|\n",
            "| 13|a3a15e9c-71d6-440...|         F|        23|      CR|          AP|           CHEST|           WSD|      [0.168, 0.168]|162.0|420.0|204.0| 315.0|     1|        Lung Opacity|              4|\n",
            "| 14|8a2f2a7e-6692-400...|         F|        44|      CR|          PA|           CHEST|           WSD|      [0.168, 0.168]| null| null| null|  null|     0|              Normal|              1|\n",
            "| 15|34e283d8-3c14-4d4...|         M|        47|      CR|          AP|           CHEST|           WSD|      [0.168, 0.168]|626.0|409.0|214.0| 403.0|     1|        Lung Opacity|              4|\n",
            "| 16|693ad3cb-222c-4f8...|         F|        71|      CR|          PA|           CHEST|           WSD|      [0.139, 0.139]| null| null| null|  null|     0|No Lung Opacity /...|              1|\n",
            "| 17|c08f10a9-1c81-4c8...|         M|        71|      CR|          PA|           CHEST|           WSD|[0.14300000000000...|578.0|668.0|350.0| 179.0|     1|        Lung Opacity|              4|\n",
            "| 18|b006df68-f367-494...|         M|        40|      CR|          AP|           CHEST|           WSD|      [0.139, 0.139]|157.0|228.0|254.0| 537.0|     1|        Lung Opacity|              4|\n",
            "| 19|a1ea1b8d-697a-4d0...|         M|        31|      CR|          PA|           CHEST|           WSD|[0.14300000000000...| null| null| null|  null|     0|              Normal|              1|\n",
            "+---+--------------------+----------+----------+--------+------------+----------------+--------------+--------------------+-----+-----+-----+------+------+--------------------+---------------+\n",
            "only showing top 20 rows\n",
            "\n"
          ]
        }
      ]
    },
    {
      "cell_type": "code",
      "source": [
        "df_SP.head(3)"
      ],
      "metadata": {
        "colab": {
          "base_uri": "https://localhost:8080/"
        },
        "id": "bOdVZoF5dHA9",
        "outputId": "b0c0d866-7528-49c5-d5da-a5862eeb95f8"
      },
      "execution_count": 17,
      "outputs": [
        {
          "output_type": "execute_result",
          "data": {
            "text/plain": [
              "[Row(_c0='0', patientId='133a1f56-1ab0-4df7-8e1b-4a6293934f3a', patientSex='F', patientAge='32', Modality='CR', ViewPosition='AP', BodyPartExamined='CHEST', ConversionType='WSD', PixelSpacing='[0.168, 0.168]', x='235.0', y='550.0', width='178.0', height='183.0', Target='1', class='Lung Opacity', number_of_boxes='9'),\n",
              " Row(_c0='1', patientId='9ee07fd5-612d-4a33-89a6-12fa8ce9bb48', patientSex='M', patientAge='31', Modality='CR', ViewPosition='AP', BodyPartExamined='CHEST', ConversionType='WSD', PixelSpacing='[0.171, 0.171]', x='292.0', y='123.0', width='309.0', height='679.0', Target='1', class='Lung Opacity', number_of_boxes='4'),\n",
              " Row(_c0='2', patientId='dd7017f1-8ff4-4854-9471-9e885a1b7627', patientSex='M', patientAge='68', Modality='CR', ViewPosition='PA', BodyPartExamined='CHEST', ConversionType='WSD', PixelSpacing='[0.14300000000000002, 0.14300000000000002]', x=None, y=None, width=None, height=None, Target='0', class='No Lung Opacity / Not Normal', number_of_boxes='1')]"
            ]
          },
          "metadata": {},
          "execution_count": 17
        }
      ]
    },
    {
      "cell_type": "code",
      "source": [
        "type(df_SP)"
      ],
      "metadata": {
        "colab": {
          "base_uri": "https://localhost:8080/"
        },
        "id": "F2OWlfvRdVqT",
        "outputId": "8b842c8a-5be2-490f-a6f0-3d05fb502347"
      },
      "execution_count": 18,
      "outputs": [
        {
          "output_type": "execute_result",
          "data": {
            "text/plain": [
              "pyspark.sql.dataframe.DataFrame"
            ]
          },
          "metadata": {},
          "execution_count": 18
        }
      ]
    },
    {
      "cell_type": "code",
      "source": [
        "df_SP.printSchema()"
      ],
      "metadata": {
        "colab": {
          "base_uri": "https://localhost:8080/"
        },
        "id": "0lMM8HAzdi0W",
        "outputId": "b6c436e2-ee21-4b86-a677-e8665cbf806d"
      },
      "execution_count": 19,
      "outputs": [
        {
          "output_type": "stream",
          "name": "stdout",
          "text": [
            "root\n",
            " |-- _c0: string (nullable = true)\n",
            " |-- patientId: string (nullable = true)\n",
            " |-- patientSex: string (nullable = true)\n",
            " |-- patientAge: string (nullable = true)\n",
            " |-- Modality: string (nullable = true)\n",
            " |-- ViewPosition: string (nullable = true)\n",
            " |-- BodyPartExamined: string (nullable = true)\n",
            " |-- ConversionType: string (nullable = true)\n",
            " |-- PixelSpacing: string (nullable = true)\n",
            " |-- x: string (nullable = true)\n",
            " |-- y: string (nullable = true)\n",
            " |-- width: string (nullable = true)\n",
            " |-- height: string (nullable = true)\n",
            " |-- Target: string (nullable = true)\n",
            " |-- class: string (nullable = true)\n",
            " |-- number_of_boxes: string (nullable = true)\n",
            "\n"
          ]
        }
      ]
    },
    {
      "cell_type": "markdown",
      "source": [
        "**Series Check:** ✅\n",
        "\n",
        "PySpark Dataframe\n",
        "\n",
        "Reading The Dataset\n",
        "\n",
        "Checking the Datatypes of the Column(Schema)\n",
        "\n",
        "Selecting Columns And Indexing\n",
        "\n",
        "Check Describe option similar to Pandas\n",
        "\n",
        "Adding Columns\n",
        "\n",
        "Dropping columns\n",
        "\n",
        "Renaming Columns"
      ],
      "metadata": {
        "id": "DAGx3AGifdfU"
      }
    },
    {
      "cell_type": "code",
      "source": [
        "from pyspark.sql import SparkSession"
      ],
      "metadata": {
        "id": "IjQecVgadudb"
      },
      "execution_count": 20,
      "outputs": []
    },
    {
      "cell_type": "code",
      "source": [
        "spark=SparkSession.builder.appName('Dataframe').getOrCreate()"
      ],
      "metadata": {
        "id": "kWz27UvGgGX4"
      },
      "execution_count": 21,
      "outputs": []
    },
    {
      "cell_type": "code",
      "source": [
        "spark"
      ],
      "metadata": {
        "colab": {
          "base_uri": "https://localhost:8080/",
          "height": 218
        },
        "id": "F8h8eTwOgJEe",
        "outputId": "51bfc011-9ee5-41c7-b194-5a6aaf753cd8"
      },
      "execution_count": 24,
      "outputs": [
        {
          "output_type": "execute_result",
          "data": {
            "text/plain": [
              "<pyspark.sql.session.SparkSession at 0x7fbea4254cd0>"
            ],
            "text/html": [
              "\n",
              "            <div>\n",
              "                <p><b>SparkSession - in-memory</b></p>\n",
              "                \n",
              "        <div>\n",
              "            <p><b>SparkContext</b></p>\n",
              "\n",
              "            <p><a href=\"http://25cd80ad06e9:4040\">Spark UI</a></p>\n",
              "\n",
              "            <dl>\n",
              "              <dt>Version</dt>\n",
              "                <dd><code>v3.3.0</code></dd>\n",
              "              <dt>Master</dt>\n",
              "                <dd><code>local[*]</code></dd>\n",
              "              <dt>AppName</dt>\n",
              "                <dd><code>test</code></dd>\n",
              "            </dl>\n",
              "        </div>\n",
              "        \n",
              "            </div>\n",
              "        "
            ]
          },
          "metadata": {},
          "execution_count": 24
        }
      ]
    },
    {
      "cell_type": "code",
      "source": [
        "## read the dataset\n",
        "df_pyspark=spark.read.option('header','true').csv('test1.csv',inferSchema=True)"
      ],
      "metadata": {
        "id": "CcUeKatzgLTe"
      },
      "execution_count": 25,
      "outputs": []
    },
    {
      "cell_type": "code",
      "source": [
        "### Check the schema\n",
        "df_pyspark.printSchema()"
      ],
      "metadata": {
        "colab": {
          "base_uri": "https://localhost:8080/"
        },
        "id": "K19xF13cgW_R",
        "outputId": "009c249d-fd48-43c0-a11f-1234b3e1a300"
      },
      "execution_count": 26,
      "outputs": [
        {
          "output_type": "stream",
          "name": "stdout",
          "text": [
            "root\n",
            " |-- Name: string (nullable = true)\n",
            " |-- age: integer (nullable = true)\n",
            " |-- Experience: integer (nullable = true)\n",
            " |-- Salary: integer (nullable = true)\n",
            "\n"
          ]
        }
      ]
    },
    {
      "cell_type": "code",
      "source": [
        "df_pyspark=spark.read.csv('test1.csv',header=True,inferSchema=True)\n",
        "df_pyspark.show()"
      ],
      "metadata": {
        "colab": {
          "base_uri": "https://localhost:8080/"
        },
        "id": "eHbQ0REZgZ4t",
        "outputId": "41fcb801-9be3-4f8d-fa2e-f954acb6d74f"
      },
      "execution_count": 27,
      "outputs": [
        {
          "output_type": "stream",
          "name": "stdout",
          "text": [
            "+---------+---+----------+------+\n",
            "|     Name|age|Experience|Salary|\n",
            "+---------+---+----------+------+\n",
            "|    Krish| 31|        10| 30000|\n",
            "|Sudhanshu| 30|         8| 25000|\n",
            "|    Sunny| 29|         4| 20000|\n",
            "|     Paul| 24|         3| 20000|\n",
            "|   Harsha| 21|         1| 15000|\n",
            "|  Shubham| 23|         2| 18000|\n",
            "+---------+---+----------+------+\n",
            "\n"
          ]
        }
      ]
    },
    {
      "cell_type": "code",
      "source": [
        "### Check the schema\n",
        "df_pyspark.printSchema()"
      ],
      "metadata": {
        "colab": {
          "base_uri": "https://localhost:8080/"
        },
        "id": "H6EqOg0CggJF",
        "outputId": "90cdda83-8091-4f9f-a7cb-cbfabad5333a"
      },
      "execution_count": 28,
      "outputs": [
        {
          "output_type": "stream",
          "name": "stdout",
          "text": [
            "root\n",
            " |-- Name: string (nullable = true)\n",
            " |-- age: integer (nullable = true)\n",
            " |-- Experience: integer (nullable = true)\n",
            " |-- Salary: integer (nullable = true)\n",
            "\n"
          ]
        }
      ]
    },
    {
      "cell_type": "code",
      "source": [
        "type(df_pyspark)"
      ],
      "metadata": {
        "colab": {
          "base_uri": "https://localhost:8080/"
        },
        "id": "7hZzOEBfgjNv",
        "outputId": "03a60fdb-03d2-42e7-faef-322be05aed0c"
      },
      "execution_count": 29,
      "outputs": [
        {
          "output_type": "execute_result",
          "data": {
            "text/plain": [
              "pyspark.sql.dataframe.DataFrame"
            ]
          },
          "metadata": {},
          "execution_count": 29
        }
      ]
    },
    {
      "cell_type": "code",
      "source": [
        "df_pyspark.head(3)"
      ],
      "metadata": {
        "colab": {
          "base_uri": "https://localhost:8080/"
        },
        "id": "JMT86uy-glTu",
        "outputId": "f2ed43fd-d6da-43de-9a47-692105941e62"
      },
      "execution_count": 30,
      "outputs": [
        {
          "output_type": "execute_result",
          "data": {
            "text/plain": [
              "[Row(Name='Krish', age=31, Experience=10, Salary=30000),\n",
              " Row(Name='Sudhanshu', age=30, Experience=8, Salary=25000),\n",
              " Row(Name='Sunny', age=29, Experience=4, Salary=20000)]"
            ]
          },
          "metadata": {},
          "execution_count": 30
        }
      ]
    },
    {
      "cell_type": "code",
      "source": [
        "df_pyspark.show()"
      ],
      "metadata": {
        "colab": {
          "base_uri": "https://localhost:8080/"
        },
        "id": "hTg0scWLgoWU",
        "outputId": "e72a7110-15ae-486f-aa8d-6a45e9171439"
      },
      "execution_count": 31,
      "outputs": [
        {
          "output_type": "stream",
          "name": "stdout",
          "text": [
            "+---------+---+----------+------+\n",
            "|     Name|age|Experience|Salary|\n",
            "+---------+---+----------+------+\n",
            "|    Krish| 31|        10| 30000|\n",
            "|Sudhanshu| 30|         8| 25000|\n",
            "|    Sunny| 29|         4| 20000|\n",
            "|     Paul| 24|         3| 20000|\n",
            "|   Harsha| 21|         1| 15000|\n",
            "|  Shubham| 23|         2| 18000|\n",
            "+---------+---+----------+------+\n",
            "\n"
          ]
        }
      ]
    },
    {
      "cell_type": "code",
      "source": [
        "df_pyspark.select(['Name','Experience']).show()"
      ],
      "metadata": {
        "colab": {
          "base_uri": "https://localhost:8080/"
        },
        "id": "xwGCf5mBgsan",
        "outputId": "9d518ad2-2274-47b8-bd63-d4267c712099"
      },
      "execution_count": 32,
      "outputs": [
        {
          "output_type": "stream",
          "name": "stdout",
          "text": [
            "+---------+----------+\n",
            "|     Name|Experience|\n",
            "+---------+----------+\n",
            "|    Krish|        10|\n",
            "|Sudhanshu|         8|\n",
            "|    Sunny|         4|\n",
            "|     Paul|         3|\n",
            "|   Harsha|         1|\n",
            "|  Shubham|         2|\n",
            "+---------+----------+\n",
            "\n"
          ]
        }
      ]
    },
    {
      "cell_type": "code",
      "source": [
        "df_pyspark['Name']"
      ],
      "metadata": {
        "colab": {
          "base_uri": "https://localhost:8080/"
        },
        "id": "cobzSe-bg0Mw",
        "outputId": "9534b91c-87b1-40ea-8739-7fdff96d0483"
      },
      "execution_count": 33,
      "outputs": [
        {
          "output_type": "execute_result",
          "data": {
            "text/plain": [
              "Column<'Name'>"
            ]
          },
          "metadata": {},
          "execution_count": 33
        }
      ]
    },
    {
      "cell_type": "code",
      "source": [
        "df_pyspark.dtypes"
      ],
      "metadata": {
        "colab": {
          "base_uri": "https://localhost:8080/"
        },
        "id": "jK69ZUEug3mG",
        "outputId": "73ab3858-c82e-43d3-c7f3-15b84f145933"
      },
      "execution_count": 34,
      "outputs": [
        {
          "output_type": "execute_result",
          "data": {
            "text/plain": [
              "[('Name', 'string'), ('age', 'int'), ('Experience', 'int'), ('Salary', 'int')]"
            ]
          },
          "metadata": {},
          "execution_count": 34
        }
      ]
    },
    {
      "cell_type": "code",
      "source": [
        "\n",
        "##describe the dataframe \n",
        "\n",
        "df_pyspark.describe().show()"
      ],
      "metadata": {
        "colab": {
          "base_uri": "https://localhost:8080/"
        },
        "id": "MiBjvJD4hlyY",
        "outputId": "580808bf-68ff-48b7-88f0-58fd23d8fe94"
      },
      "execution_count": 36,
      "outputs": [
        {
          "output_type": "stream",
          "name": "stdout",
          "text": [
            "+-------+------+------------------+-----------------+------------------+\n",
            "|summary|  Name|               age|       Experience|            Salary|\n",
            "+-------+------+------------------+-----------------+------------------+\n",
            "|  count|     6|                 6|                6|                 6|\n",
            "|   mean|  null|26.333333333333332|4.666666666666667|21333.333333333332|\n",
            "| stddev|  null| 4.179314138308661|3.559026084010437| 5354.126134736337|\n",
            "|    min|Harsha|                21|                1|             15000|\n",
            "|    max| Sunny|                31|               10|             30000|\n",
            "+-------+------+------------------+-----------------+------------------+\n",
            "\n"
          ]
        }
      ]
    },
    {
      "cell_type": "code",
      "source": [
        "### Adding Columns in data frame\n",
        "df_pyspark=df_pyspark.withColumn('Experience After 2 year',df_pyspark['Experience']+2)"
      ],
      "metadata": {
        "id": "h2sSgacxhovI"
      },
      "execution_count": 37,
      "outputs": []
    },
    {
      "cell_type": "code",
      "source": [
        "df_pyspark.show()"
      ],
      "metadata": {
        "colab": {
          "base_uri": "https://localhost:8080/"
        },
        "id": "pHQ-n31Gh1Ns",
        "outputId": "2483e90b-e3e2-4eee-ce50-d1b14197aefe"
      },
      "execution_count": 38,
      "outputs": [
        {
          "output_type": "stream",
          "name": "stdout",
          "text": [
            "+---------+---+----------+------+-----------------------+\n",
            "|     Name|age|Experience|Salary|Experience After 2 year|\n",
            "+---------+---+----------+------+-----------------------+\n",
            "|    Krish| 31|        10| 30000|                     12|\n",
            "|Sudhanshu| 30|         8| 25000|                     10|\n",
            "|    Sunny| 29|         4| 20000|                      6|\n",
            "|     Paul| 24|         3| 20000|                      5|\n",
            "|   Harsha| 21|         1| 15000|                      3|\n",
            "|  Shubham| 23|         2| 18000|                      4|\n",
            "+---------+---+----------+------+-----------------------+\n",
            "\n"
          ]
        }
      ]
    },
    {
      "cell_type": "code",
      "source": [
        "### Drop the columns\n",
        "df_pyspark=df_pyspark.drop('Experience After 2 year')"
      ],
      "metadata": {
        "id": "e6h-CHYVh4tg"
      },
      "execution_count": 39,
      "outputs": []
    },
    {
      "cell_type": "code",
      "source": [
        "df_pyspark.show()"
      ],
      "metadata": {
        "colab": {
          "base_uri": "https://localhost:8080/"
        },
        "id": "betehAphh-r2",
        "outputId": "66087759-10c9-4d26-f581-f2a17f8ee83b"
      },
      "execution_count": 40,
      "outputs": [
        {
          "output_type": "stream",
          "name": "stdout",
          "text": [
            "+---------+---+----------+------+\n",
            "|     Name|age|Experience|Salary|\n",
            "+---------+---+----------+------+\n",
            "|    Krish| 31|        10| 30000|\n",
            "|Sudhanshu| 30|         8| 25000|\n",
            "|    Sunny| 29|         4| 20000|\n",
            "|     Paul| 24|         3| 20000|\n",
            "|   Harsha| 21|         1| 15000|\n",
            "|  Shubham| 23|         2| 18000|\n",
            "+---------+---+----------+------+\n",
            "\n"
          ]
        }
      ]
    },
    {
      "cell_type": "code",
      "source": [
        "### Rename the columns\n",
        "df_pyspark.withColumnRenamed('Name','updated_Name').show()"
      ],
      "metadata": {
        "colab": {
          "base_uri": "https://localhost:8080/"
        },
        "id": "5gvlcbfciA7W",
        "outputId": "ae7c6830-1f57-44ea-dbf0-220c0b4db945"
      },
      "execution_count": 42,
      "outputs": [
        {
          "output_type": "stream",
          "name": "stdout",
          "text": [
            "+------------+---+----------+------+\n",
            "|updated_Name|age|Experience|Salary|\n",
            "+------------+---+----------+------+\n",
            "|       Krish| 31|        10| 30000|\n",
            "|   Sudhanshu| 30|         8| 25000|\n",
            "|       Sunny| 29|         4| 20000|\n",
            "|        Paul| 24|         3| 20000|\n",
            "|      Harsha| 21|         1| 15000|\n",
            "|     Shubham| 23|         2| 18000|\n",
            "+------------+---+----------+------+\n",
            "\n"
          ]
        }
      ]
    },
    {
      "cell_type": "markdown",
      "source": [
        "# **Pyspark Handling Missing Values**: ✊\n",
        "\n",
        "Dropping Columns\n",
        "\n",
        "Dropping Rows\n",
        "\n",
        "Various Parameter In Dropping functionalities\n",
        "\n",
        "Handling Missing values by Mean, MEdian And Mode\n"
      ],
      "metadata": {
        "id": "DZJp4L66iSlH"
      }
    },
    {
      "cell_type": "code",
      "source": [
        "from pyspark.sql import SparkSession\n",
        "spark=SparkSession.builder.appName('Practise').getOrCreate()"
      ],
      "metadata": {
        "id": "awJCi2-MiDig"
      },
      "execution_count": 3,
      "outputs": []
    },
    {
      "cell_type": "code",
      "source": [
        "df_pyspark=spark.read.csv('test2.csv',header=True,inferSchema=True)"
      ],
      "metadata": {
        "id": "NTbpni4ljNCW"
      },
      "execution_count": 4,
      "outputs": []
    },
    {
      "cell_type": "code",
      "source": [
        "df_pyspark.printSchema()"
      ],
      "metadata": {
        "colab": {
          "base_uri": "https://localhost:8080/"
        },
        "id": "xfoVzmHLjTRG",
        "outputId": "ae79ba06-90b9-4c02-f5f8-a623a35a8ca5"
      },
      "execution_count": 5,
      "outputs": [
        {
          "output_type": "stream",
          "name": "stdout",
          "text": [
            "root\n",
            " |-- Name: string (nullable = true)\n",
            " |-- age: integer (nullable = true)\n",
            " |-- Experience: integer (nullable = true)\n",
            " |-- Salary: integer (nullable = true)\n",
            "\n"
          ]
        }
      ]
    },
    {
      "cell_type": "code",
      "source": [
        "df_pyspark.show()"
      ],
      "metadata": {
        "colab": {
          "base_uri": "https://localhost:8080/"
        },
        "id": "GMznwOb1jVqW",
        "outputId": "8b5e297f-5862-484a-9d74-84da8ae99cba"
      },
      "execution_count": 6,
      "outputs": [
        {
          "output_type": "stream",
          "name": "stdout",
          "text": [
            "+---------+----+----------+------+\n",
            "|     Name| age|Experience|Salary|\n",
            "+---------+----+----------+------+\n",
            "|    Krish|  31|        10| 30000|\n",
            "|Sudhanshu|  30|         8| 25000|\n",
            "|    Sunny|  29|         4| 20000|\n",
            "|     Paul|  24|         3| 20000|\n",
            "|   Harsha|  21|         1| 15000|\n",
            "|  Shubham|  23|         2| 18000|\n",
            "|   Mahesh|null|      null| 40000|\n",
            "|     null|  34|        10| 38000|\n",
            "|     null|  36|      null|  null|\n",
            "+---------+----+----------+------+\n",
            "\n"
          ]
        }
      ]
    },
    {
      "cell_type": "code",
      "source": [
        "##drop the columns\n",
        "df_pyspark.drop('Name').show()"
      ],
      "metadata": {
        "colab": {
          "base_uri": "https://localhost:8080/"
        },
        "id": "kdbWBYPFjYFX",
        "outputId": "4ca8d85c-b242-4652-cc9b-303cec98765f"
      },
      "execution_count": 7,
      "outputs": [
        {
          "output_type": "stream",
          "name": "stdout",
          "text": [
            "+----+----------+------+\n",
            "| age|Experience|Salary|\n",
            "+----+----------+------+\n",
            "|  31|        10| 30000|\n",
            "|  30|         8| 25000|\n",
            "|  29|         4| 20000|\n",
            "|  24|         3| 20000|\n",
            "|  21|         1| 15000|\n",
            "|  23|         2| 18000|\n",
            "|null|      null| 40000|\n",
            "|  34|        10| 38000|\n",
            "|  36|      null|  null|\n",
            "+----+----------+------+\n",
            "\n"
          ]
        }
      ]
    },
    {
      "cell_type": "code",
      "source": [
        "df_pyspark.show()\n"
      ],
      "metadata": {
        "colab": {
          "base_uri": "https://localhost:8080/"
        },
        "id": "BmB4Hq53jgre",
        "outputId": "9a5b703c-c50b-4336-d4ff-3cf776b396da"
      },
      "execution_count": 8,
      "outputs": [
        {
          "output_type": "stream",
          "name": "stdout",
          "text": [
            "+---------+----+----------+------+\n",
            "|     Name| age|Experience|Salary|\n",
            "+---------+----+----------+------+\n",
            "|    Krish|  31|        10| 30000|\n",
            "|Sudhanshu|  30|         8| 25000|\n",
            "|    Sunny|  29|         4| 20000|\n",
            "|     Paul|  24|         3| 20000|\n",
            "|   Harsha|  21|         1| 15000|\n",
            "|  Shubham|  23|         2| 18000|\n",
            "|   Mahesh|null|      null| 40000|\n",
            "|     null|  34|        10| 38000|\n",
            "|     null|  36|      null|  null|\n",
            "+---------+----+----------+------+\n",
            "\n"
          ]
        }
      ]
    },
    {
      "cell_type": "code",
      "source": [
        "df_pyspark.na.drop().show()"
      ],
      "metadata": {
        "colab": {
          "base_uri": "https://localhost:8080/"
        },
        "id": "bCGmw7eKjjrs",
        "outputId": "17719eec-a649-4012-c540-428fc8866f51"
      },
      "execution_count": 9,
      "outputs": [
        {
          "output_type": "stream",
          "name": "stdout",
          "text": [
            "+---------+---+----------+------+\n",
            "|     Name|age|Experience|Salary|\n",
            "+---------+---+----------+------+\n",
            "|    Krish| 31|        10| 30000|\n",
            "|Sudhanshu| 30|         8| 25000|\n",
            "|    Sunny| 29|         4| 20000|\n",
            "|     Paul| 24|         3| 20000|\n",
            "|   Harsha| 21|         1| 15000|\n",
            "|  Shubham| 23|         2| 18000|\n",
            "+---------+---+----------+------+\n",
            "\n"
          ]
        }
      ]
    },
    {
      "cell_type": "code",
      "source": [
        "### any==how (any = if there is any single null values then remove it)\n",
        "df_pyspark.na.drop(how=\"any\").show()"
      ],
      "metadata": {
        "colab": {
          "base_uri": "https://localhost:8080/"
        },
        "id": "MH738fvpjlw3",
        "outputId": "ecf3368d-44d3-4e2f-ccc4-8b1ff89991c3"
      },
      "execution_count": 10,
      "outputs": [
        {
          "output_type": "stream",
          "name": "stdout",
          "text": [
            "+---------+---+----------+------+\n",
            "|     Name|age|Experience|Salary|\n",
            "+---------+---+----------+------+\n",
            "|    Krish| 31|        10| 30000|\n",
            "|Sudhanshu| 30|         8| 25000|\n",
            "|    Sunny| 29|         4| 20000|\n",
            "|     Paul| 24|         3| 20000|\n",
            "|   Harsha| 21|         1| 15000|\n",
            "|  Shubham| 23|         2| 18000|\n",
            "+---------+---+----------+------+\n",
            "\n"
          ]
        }
      ]
    },
    {
      "cell_type": "code",
      "source": [
        "### how='all' means if all the columns have null then remove the row\n",
        "df_pyspark.na.drop(how=\"all\").show()"
      ],
      "metadata": {
        "colab": {
          "base_uri": "https://localhost:8080/"
        },
        "id": "2yN5MY5FjsSb",
        "outputId": "c298ea36-b933-4ce4-828c-b8fe562b2a37"
      },
      "execution_count": 11,
      "outputs": [
        {
          "output_type": "stream",
          "name": "stdout",
          "text": [
            "+---------+----+----------+------+\n",
            "|     Name| age|Experience|Salary|\n",
            "+---------+----+----------+------+\n",
            "|    Krish|  31|        10| 30000|\n",
            "|Sudhanshu|  30|         8| 25000|\n",
            "|    Sunny|  29|         4| 20000|\n",
            "|     Paul|  24|         3| 20000|\n",
            "|   Harsha|  21|         1| 15000|\n",
            "|  Shubham|  23|         2| 18000|\n",
            "|   Mahesh|null|      null| 40000|\n",
            "|     null|  34|        10| 38000|\n",
            "|     null|  36|      null|  null|\n",
            "+---------+----+----------+------+\n",
            "\n"
          ]
        }
      ]
    },
    {
      "cell_type": "code",
      "source": [
        "##threshold =1 means show the row which have only 1 numeric or values in the row like row 36 and 40000\n",
        "df_pyspark.na.drop(how=\"any\",thresh=1).show()"
      ],
      "metadata": {
        "colab": {
          "base_uri": "https://localhost:8080/"
        },
        "id": "NToRqS22kl_7",
        "outputId": "90f0caa6-7275-47ad-8785-5309cf43cbb7"
      },
      "execution_count": 12,
      "outputs": [
        {
          "output_type": "stream",
          "name": "stdout",
          "text": [
            "+---------+----+----------+------+\n",
            "|     Name| age|Experience|Salary|\n",
            "+---------+----+----------+------+\n",
            "|    Krish|  31|        10| 30000|\n",
            "|Sudhanshu|  30|         8| 25000|\n",
            "|    Sunny|  29|         4| 20000|\n",
            "|     Paul|  24|         3| 20000|\n",
            "|   Harsha|  21|         1| 15000|\n",
            "|  Shubham|  23|         2| 18000|\n",
            "|   Mahesh|null|      null| 40000|\n",
            "|     null|  34|        10| 38000|\n",
            "|     null|  36|      null|  null|\n",
            "+---------+----+----------+------+\n",
            "\n"
          ]
        }
      ]
    },
    {
      "cell_type": "code",
      "source": [
        "##Subset , drop null value in the specific column 'age'\n",
        "df_pyspark.na.drop(how=\"any\",subset=['age']).show()"
      ],
      "metadata": {
        "colab": {
          "base_uri": "https://localhost:8080/"
        },
        "id": "TDHiJKTtlbPX",
        "outputId": "a3413cfe-1164-4836-dc34-0d46aeb5624d"
      },
      "execution_count": 13,
      "outputs": [
        {
          "output_type": "stream",
          "name": "stdout",
          "text": [
            "+---------+---+----------+------+\n",
            "|     Name|age|Experience|Salary|\n",
            "+---------+---+----------+------+\n",
            "|    Krish| 31|        10| 30000|\n",
            "|Sudhanshu| 30|         8| 25000|\n",
            "|    Sunny| 29|         4| 20000|\n",
            "|     Paul| 24|         3| 20000|\n",
            "|   Harsha| 21|         1| 15000|\n",
            "|  Shubham| 23|         2| 18000|\n",
            "|     null| 34|        10| 38000|\n",
            "|     null| 36|      null|  null|\n",
            "+---------+---+----------+------+\n",
            "\n"
          ]
        }
      ]
    },
    {
      "cell_type": "code",
      "source": [
        "from pyspark.sql.functions import *"
      ],
      "metadata": {
        "id": "vEXSfx353MwF"
      },
      "execution_count": 15,
      "outputs": []
    },
    {
      "cell_type": "code",
      "source": [
        "df2=df_pyspark.na.fill('no_value').show()\n",
        "#df_pyspark.fillna({'age':' '}).show()\n",
        "\n",
        "\n"
      ],
      "metadata": {
        "colab": {
          "base_uri": "https://localhost:8080/"
        },
        "id": "2LrVG29S3Onk",
        "outputId": "9579d5b7-0ebe-4897-8ce8-4af691f0e0d2"
      },
      "execution_count": 25,
      "outputs": [
        {
          "output_type": "stream",
          "name": "stdout",
          "text": [
            "+---------+----+----------+------+\n",
            "|     Name| age|Experience|Salary|\n",
            "+---------+----+----------+------+\n",
            "|    Krish|  31|        10| 30000|\n",
            "|Sudhanshu|  30|         8| 25000|\n",
            "|    Sunny|  29|         4| 20000|\n",
            "|     Paul|  24|         3| 20000|\n",
            "|   Harsha|  21|         1| 15000|\n",
            "|  Shubham|  23|         2| 18000|\n",
            "|   Mahesh|null|      null| 40000|\n",
            "| no_value|  34|        10| 38000|\n",
            "| no_value|  36|      null|  null|\n",
            "+---------+----+----------+------+\n",
            "\n"
          ]
        }
      ]
    },
    {
      "cell_type": "code",
      "source": [
        "df3=df_pyspark.na.fill(value=0,subset=[\"age\",\"Experience\",\"Salary\"]).show() #missing value replacement for string type\n",
        "\n",
        "df3=df_pyspark.na.fill(value=0).show()# for integer\n",
        "\n",
        "\n",
        "df3=df_pyspark.na.fill({\"Name\": \"unknown_name\", \"Name\": \"\"}) \\\n",
        "    .show()\n",
        "#for integer replace with blank\n",
        "\n",
        "\n",
        "df3=df_pyspark.na.fill(\"unknown\",[\"Name\"]) \\ #replace with string name defined\n",
        "    .na.fill(\"\",[\"age\"]).show()"
      ],
      "metadata": {
        "colab": {
          "base_uri": "https://localhost:8080/"
        },
        "id": "2AStjyPq52xQ",
        "outputId": "748b2d77-f9ae-4090-8792-46d2ef68024b"
      },
      "execution_count": 34,
      "outputs": [
        {
          "output_type": "stream",
          "name": "stdout",
          "text": [
            "+---------+---+----------+------+\n",
            "|     Name|age|Experience|Salary|\n",
            "+---------+---+----------+------+\n",
            "|    Krish| 31|        10| 30000|\n",
            "|Sudhanshu| 30|         8| 25000|\n",
            "|    Sunny| 29|         4| 20000|\n",
            "|     Paul| 24|         3| 20000|\n",
            "|   Harsha| 21|         1| 15000|\n",
            "|  Shubham| 23|         2| 18000|\n",
            "|   Mahesh|  0|         0| 40000|\n",
            "|     null| 34|        10| 38000|\n",
            "|     null| 36|         0|     0|\n",
            "+---------+---+----------+------+\n",
            "\n",
            "+---------+---+----------+------+\n",
            "|     Name|age|Experience|Salary|\n",
            "+---------+---+----------+------+\n",
            "|    Krish| 31|        10| 30000|\n",
            "|Sudhanshu| 30|         8| 25000|\n",
            "|    Sunny| 29|         4| 20000|\n",
            "|     Paul| 24|         3| 20000|\n",
            "|   Harsha| 21|         1| 15000|\n",
            "|  Shubham| 23|         2| 18000|\n",
            "|   Mahesh|  0|         0| 40000|\n",
            "|     null| 34|        10| 38000|\n",
            "|     null| 36|         0|     0|\n",
            "+---------+---+----------+------+\n",
            "\n",
            "+---------+----+----------+------+\n",
            "|     Name| age|Experience|Salary|\n",
            "+---------+----+----------+------+\n",
            "|    Krish|  31|        10| 30000|\n",
            "|Sudhanshu|  30|         8| 25000|\n",
            "|    Sunny|  29|         4| 20000|\n",
            "|     Paul|  24|         3| 20000|\n",
            "|   Harsha|  21|         1| 15000|\n",
            "|  Shubham|  23|         2| 18000|\n",
            "|   Mahesh|null|      null| 40000|\n",
            "|         |  34|        10| 38000|\n",
            "|         |  36|      null|  null|\n",
            "+---------+----+----------+------+\n",
            "\n",
            "+---------+----+----------+------+\n",
            "|     Name| age|Experience|Salary|\n",
            "+---------+----+----------+------+\n",
            "|    Krish|  31|        10| 30000|\n",
            "|Sudhanshu|  30|         8| 25000|\n",
            "|    Sunny|  29|         4| 20000|\n",
            "|     Paul|  24|         3| 20000|\n",
            "|   Harsha|  21|         1| 15000|\n",
            "|  Shubham|  23|         2| 18000|\n",
            "|   Mahesh|null|      null| 40000|\n",
            "|  unknown|  34|        10| 38000|\n",
            "|  unknown|  36|      null|  null|\n",
            "+---------+----+----------+------+\n",
            "\n"
          ]
        }
      ]
    },
    {
      "cell_type": "code",
      "source": [
        "### Filling the Missing Value\n",
        "df_pyspark.na.fill('Missing Values',['Experience','age']).show()"
      ],
      "metadata": {
        "colab": {
          "base_uri": "https://localhost:8080/"
        },
        "id": "P6Jl_yglwRbl",
        "outputId": "6148f4ee-a894-4cab-daa3-b755a044e87b"
      },
      "execution_count": 35,
      "outputs": [
        {
          "output_type": "stream",
          "name": "stdout",
          "text": [
            "+---------+----+----------+------+\n",
            "|     Name| age|Experience|Salary|\n",
            "+---------+----+----------+------+\n",
            "|    Krish|  31|        10| 30000|\n",
            "|Sudhanshu|  30|         8| 25000|\n",
            "|    Sunny|  29|         4| 20000|\n",
            "|     Paul|  24|         3| 20000|\n",
            "|   Harsha|  21|         1| 15000|\n",
            "|  Shubham|  23|         2| 18000|\n",
            "|   Mahesh|null|      null| 40000|\n",
            "|     null|  34|        10| 38000|\n",
            "|     null|  36|      null|  null|\n",
            "+---------+----+----------+------+\n",
            "\n"
          ]
        }
      ]
    },
    {
      "cell_type": "code",
      "source": [
        "### Filling the Missing Value\n",
        "###need to check the code for replacing missing value and impute function as it is not working here \n",
        "df_pyspark.na.fill('Missing Values',['Experience','age']).show()"
      ],
      "metadata": {
        "colab": {
          "base_uri": "https://localhost:8080/"
        },
        "id": "VqbN_zv_lesS",
        "outputId": "fd98a3ce-db5e-4ade-e295-8cc40a94fa63"
      },
      "execution_count": 73,
      "outputs": [
        {
          "output_type": "stream",
          "name": "stdout",
          "text": [
            "+---------+----+----------+------+\n",
            "|     Name| age|Experience|Salary|\n",
            "+---------+----+----------+------+\n",
            "|    Krish|  31|        10| 30000|\n",
            "|Sudhanshu|  30|         8| 25000|\n",
            "|    Sunny|  29|         4| 20000|\n",
            "|     Paul|  24|         3| 20000|\n",
            "|   Harsha|  21|         1| 15000|\n",
            "|  Shubham|  23|         2| 18000|\n",
            "|   Mahesh|null|      null| 40000|\n",
            "|     null|  34|        10| 38000|\n",
            "|     null|  36|      null|  null|\n",
            "+---------+----+----------+------+\n",
            "\n"
          ]
        }
      ]
    },
    {
      "cell_type": "code",
      "source": [
        "df_pyspark.show()"
      ],
      "metadata": {
        "colab": {
          "base_uri": "https://localhost:8080/"
        },
        "id": "mM-MTvzbljQa",
        "outputId": "265a5d14-1aeb-43a6-ade8-e6a024bb9c38"
      },
      "execution_count": 70,
      "outputs": [
        {
          "output_type": "stream",
          "name": "stdout",
          "text": [
            "+---------+----+----------+------+\n",
            "|     Name| age|Experience|Salary|\n",
            "+---------+----+----------+------+\n",
            "|    Krish|  31|        10| 30000|\n",
            "|Sudhanshu|  30|         8| 25000|\n",
            "|    Sunny|  29|         4| 20000|\n",
            "|     Paul|  24|         3| 20000|\n",
            "|   Harsha|  21|         1| 15000|\n",
            "|  Shubham|  23|         2| 18000|\n",
            "|   Mahesh|null|      null| 40000|\n",
            "|     null|  34|        10| 38000|\n",
            "|     null|  36|      null|  null|\n",
            "+---------+----+----------+------+\n",
            "\n"
          ]
        }
      ]
    },
    {
      "cell_type": "code",
      "source": [
        "df_pyspark.printSchema()"
      ],
      "metadata": {
        "colab": {
          "base_uri": "https://localhost:8080/"
        },
        "id": "mNWAC0a_lnpS",
        "outputId": "7d21d543-f446-48e4-93c2-2f3008e330ad"
      },
      "execution_count": 56,
      "outputs": [
        {
          "output_type": "stream",
          "name": "stdout",
          "text": [
            "root\n",
            " |-- Name: string (nullable = true)\n",
            " |-- age: integer (nullable = true)\n",
            " |-- Experience: integer (nullable = true)\n",
            " |-- Salary: integer (nullable = true)\n",
            "\n"
          ]
        }
      ]
    },
    {
      "cell_type": "code",
      "source": [
        "from pyspark.ml.feature import Imputer\n",
        "\n",
        "imputer = Imputer(\n",
        "    inputCols=['age', 'Experience', 'Salary'], \n",
        "    outputCols=[\"{}_imputed\".format(c) for c in ['age', 'Experience', 'Salary']]\n",
        "    ).setStrategy(\"mean\")"
      ],
      "metadata": {
        "id": "N-4GMT9ImHYY"
      },
      "execution_count": 36,
      "outputs": []
    },
    {
      "cell_type": "code",
      "source": [
        "# Add imputation cols to df and values of null got replaced automatially with the mean value of the respective columns \n",
        "imputer.fit(df_pyspark).transform(df_pyspark).show()"
      ],
      "metadata": {
        "colab": {
          "base_uri": "https://localhost:8080/"
        },
        "id": "qkke7WfFmJo1",
        "outputId": "27999c21-d1ae-4329-b5b6-90d3ce39d409"
      },
      "execution_count": 37,
      "outputs": [
        {
          "output_type": "stream",
          "name": "stdout",
          "text": [
            "+---------+----+----------+------+-----------+------------------+--------------+\n",
            "|     Name| age|Experience|Salary|age_imputed|Experience_imputed|Salary_imputed|\n",
            "+---------+----+----------+------+-----------+------------------+--------------+\n",
            "|    Krish|  31|        10| 30000|         31|                10|         30000|\n",
            "|Sudhanshu|  30|         8| 25000|         30|                 8|         25000|\n",
            "|    Sunny|  29|         4| 20000|         29|                 4|         20000|\n",
            "|     Paul|  24|         3| 20000|         24|                 3|         20000|\n",
            "|   Harsha|  21|         1| 15000|         21|                 1|         15000|\n",
            "|  Shubham|  23|         2| 18000|         23|                 2|         18000|\n",
            "|   Mahesh|null|      null| 40000|         28|                 5|         40000|\n",
            "|     null|  34|        10| 38000|         34|                10|         38000|\n",
            "|     null|  36|      null|  null|         36|                 5|         25750|\n",
            "+---------+----+----------+------+-----------+------------------+--------------+\n",
            "\n"
          ]
        }
      ]
    },
    {
      "cell_type": "markdown",
      "source": [
        "# Pyspark Dataframes\n",
        "#Filter Operation\n",
        ".&,\n",
        "\n",
        ".|,\n",
        "\n",
        ".==\n",
        "\n",
        "~ \n",
        "\n",
        "[webpage .link](https://sparkbyexamples.com/pyspark)"
      ],
      "metadata": {
        "id": "yBlr4MF59_wS"
      }
    },
    {
      "cell_type": "code",
      "source": [
        "spark=SparkSession.builder.appName('dataframe').getOrCreate()"
      ],
      "metadata": {
        "id": "4dYFGhM1mMPv"
      },
      "execution_count": 38,
      "outputs": []
    },
    {
      "cell_type": "code",
      "source": [
        "df_pyspark=spark.read.csv('test1.csv',header=True,inferSchema=True)\n",
        "df_pyspark.show()"
      ],
      "metadata": {
        "colab": {
          "base_uri": "https://localhost:8080/"
        },
        "id": "sm2r-y9C-ag-",
        "outputId": "7987491d-10a5-42b1-ac13-98362bde92dc"
      },
      "execution_count": 39,
      "outputs": [
        {
          "output_type": "stream",
          "name": "stdout",
          "text": [
            "+---------+---+----------+------+\n",
            "|     Name|age|Experience|Salary|\n",
            "+---------+---+----------+------+\n",
            "|    Krish| 31|        10| 30000|\n",
            "|Sudhanshu| 30|         8| 25000|\n",
            "|    Sunny| 29|         4| 20000|\n",
            "|     Paul| 24|         3| 20000|\n",
            "|   Harsha| 21|         1| 15000|\n",
            "|  Shubham| 23|         2| 18000|\n",
            "+---------+---+----------+------+\n",
            "\n"
          ]
        }
      ]
    },
    {
      "cell_type": "markdown",
      "source": [
        "# **Filter Operations**"
      ],
      "metadata": {
        "id": "q6-MnC-1_70v"
      }
    },
    {
      "cell_type": "code",
      "source": [
        "### Salary of the people less than or equal to 20000\n",
        "df_pyspark.filter(\"Salary<=20000\").show()"
      ],
      "metadata": {
        "colab": {
          "base_uri": "https://localhost:8080/"
        },
        "id": "pcjNOU-A-c8W",
        "outputId": "4f8b27dc-e01b-4fde-f447-3a5851d06aaf"
      },
      "execution_count": 40,
      "outputs": [
        {
          "output_type": "stream",
          "name": "stdout",
          "text": [
            "+-------+---+----------+------+\n",
            "|   Name|age|Experience|Salary|\n",
            "+-------+---+----------+------+\n",
            "|  Sunny| 29|         4| 20000|\n",
            "|   Paul| 24|         3| 20000|\n",
            "| Harsha| 21|         1| 15000|\n",
            "|Shubham| 23|         2| 18000|\n",
            "+-------+---+----------+------+\n",
            "\n"
          ]
        }
      ]
    },
    {
      "cell_type": "code",
      "source": [
        "df_pyspark.filter(\"Salary<=20000\").select(['Name','age']).show()"
      ],
      "metadata": {
        "colab": {
          "base_uri": "https://localhost:8080/"
        },
        "id": "W6OgYrm7ACGI",
        "outputId": "5c529832-8375-406b-b041-dc5c0a104d61"
      },
      "execution_count": 41,
      "outputs": [
        {
          "output_type": "stream",
          "name": "stdout",
          "text": [
            "+-------+---+\n",
            "|   Name|age|\n",
            "+-------+---+\n",
            "|  Sunny| 29|\n",
            "|   Paul| 24|\n",
            "| Harsha| 21|\n",
            "|Shubham| 23|\n",
            "+-------+---+\n",
            "\n"
          ]
        }
      ]
    },
    {
      "cell_type": "code",
      "source": [
        "df_pyspark.filter(df_pyspark['Salary']<=20000).show()"
      ],
      "metadata": {
        "colab": {
          "base_uri": "https://localhost:8080/"
        },
        "id": "6J0_zUOLAUDZ",
        "outputId": "4da819ca-a736-4de2-a44d-3d87f28cafb5"
      },
      "execution_count": 42,
      "outputs": [
        {
          "output_type": "stream",
          "name": "stdout",
          "text": [
            "+-------+---+----------+------+\n",
            "|   Name|age|Experience|Salary|\n",
            "+-------+---+----------+------+\n",
            "|  Sunny| 29|         4| 20000|\n",
            "|   Paul| 24|         3| 20000|\n",
            "| Harsha| 21|         1| 15000|\n",
            "|Shubham| 23|         2| 18000|\n",
            "+-------+---+----------+------+\n",
            "\n"
          ]
        }
      ]
    },
    {
      "cell_type": "code",
      "source": [
        "df_pyspark.filter((df_pyspark['Salary']<=20000) &\n",
        "\n",
        "### & = and condition and if you give this | then it means or conditon\n",
        "                  (df_pyspark['Salary']>=15000)).show()"
      ],
      "metadata": {
        "colab": {
          "base_uri": "https://localhost:8080/"
        },
        "id": "W49VLSLcAcT5",
        "outputId": "191816d2-570f-4e7f-976d-8ac56c5f12ff"
      },
      "execution_count": 46,
      "outputs": [
        {
          "output_type": "stream",
          "name": "stdout",
          "text": [
            "+-------+---+----------+------+\n",
            "|   Name|age|Experience|Salary|\n",
            "+-------+---+----------+------+\n",
            "|  Sunny| 29|         4| 20000|\n",
            "|   Paul| 24|         3| 20000|\n",
            "| Harsha| 21|         1| 15000|\n",
            "|Shubham| 23|         2| 18000|\n",
            "+-------+---+----------+------+\n",
            "\n"
          ]
        }
      ]
    },
    {
      "cell_type": "code",
      "source": [
        "df_pyspark.filter(~(df_pyspark['Salary']<=20000)).show()\n",
        "#~ - not condition"
      ],
      "metadata": {
        "colab": {
          "base_uri": "https://localhost:8080/"
        },
        "id": "pP1DiCYtAfiX",
        "outputId": "7e2fa64f-c7d2-4c82-889f-9bb5ac49350a"
      },
      "execution_count": 47,
      "outputs": [
        {
          "output_type": "stream",
          "name": "stdout",
          "text": [
            "+---------+---+----------+------+\n",
            "|     Name|age|Experience|Salary|\n",
            "+---------+---+----------+------+\n",
            "|    Krish| 31|        10| 30000|\n",
            "|Sudhanshu| 30|         8| 25000|\n",
            "+---------+---+----------+------+\n",
            "\n"
          ]
        }
      ]
    },
    {
      "cell_type": "markdown",
      "source": [
        "## **Pyspark GroupBy And Aggregate Functions**"
      ],
      "metadata": {
        "id": "JHWYe79IClHV"
      }
    },
    {
      "cell_type": "code",
      "source": [
        "from pyspark.sql import SparkSession"
      ],
      "metadata": {
        "id": "cC75_FS-Avhc"
      },
      "execution_count": 48,
      "outputs": []
    },
    {
      "cell_type": "code",
      "source": [
        "spark=SparkSession.builder.appName('Agg').getOrCreate()"
      ],
      "metadata": {
        "id": "Vzj4ehZ-Cuny"
      },
      "execution_count": 49,
      "outputs": []
    },
    {
      "cell_type": "code",
      "source": [
        "spark"
      ],
      "metadata": {
        "colab": {
          "base_uri": "https://localhost:8080/",
          "height": 218
        },
        "id": "rf0JnsYECyX8",
        "outputId": "ff5d40d3-8488-4aae-894e-148a66ff4f78"
      },
      "execution_count": 50,
      "outputs": [
        {
          "output_type": "execute_result",
          "data": {
            "text/plain": [
              "<pyspark.sql.session.SparkSession at 0x7f8b753d4790>"
            ],
            "text/html": [
              "\n",
              "            <div>\n",
              "                <p><b>SparkSession - in-memory</b></p>\n",
              "                \n",
              "        <div>\n",
              "            <p><b>SparkContext</b></p>\n",
              "\n",
              "            <p><a href=\"http://9b4ca47f0ef7:4040\">Spark UI</a></p>\n",
              "\n",
              "            <dl>\n",
              "              <dt>Version</dt>\n",
              "                <dd><code>v3.3.0</code></dd>\n",
              "              <dt>Master</dt>\n",
              "                <dd><code>local[*]</code></dd>\n",
              "              <dt>AppName</dt>\n",
              "                <dd><code>Practise</code></dd>\n",
              "            </dl>\n",
              "        </div>\n",
              "        \n",
              "            </div>\n",
              "        "
            ]
          },
          "metadata": {},
          "execution_count": 50
        }
      ]
    },
    {
      "cell_type": "code",
      "source": [
        "df_pyspark=spark.read.csv('test3.csv',header=True,inferSchema=True)"
      ],
      "metadata": {
        "id": "LYLF5uBBC2xk"
      },
      "execution_count": 51,
      "outputs": []
    },
    {
      "cell_type": "code",
      "source": [
        "df_pyspark.show()"
      ],
      "metadata": {
        "colab": {
          "base_uri": "https://localhost:8080/"
        },
        "id": "76ObKY9TC-G8",
        "outputId": "79751d53-f5d9-4013-d63c-20b6e852cf2c"
      },
      "execution_count": 52,
      "outputs": [
        {
          "output_type": "stream",
          "name": "stdout",
          "text": [
            "+---------+------------+------+\n",
            "|     Name| Departments|salary|\n",
            "+---------+------------+------+\n",
            "|    Krish|Data Science| 10000|\n",
            "|    Krish|         IOT|  5000|\n",
            "|   Mahesh|    Big Data|  4000|\n",
            "|    Krish|    Big Data|  4000|\n",
            "|   Mahesh|Data Science|  3000|\n",
            "|Sudhanshu|Data Science| 20000|\n",
            "|Sudhanshu|         IOT| 10000|\n",
            "|Sudhanshu|    Big Data|  5000|\n",
            "|    Sunny|Data Science| 10000|\n",
            "|    Sunny|    Big Data|  2000|\n",
            "+---------+------------+------+\n",
            "\n"
          ]
        }
      ]
    },
    {
      "cell_type": "code",
      "source": [
        "df_pyspark.printSchema()"
      ],
      "metadata": {
        "colab": {
          "base_uri": "https://localhost:8080/"
        },
        "id": "mqkeZD4dDDEg",
        "outputId": "12be6157-ed3d-40ac-b8ef-36e1bc7ca15c"
      },
      "execution_count": 53,
      "outputs": [
        {
          "output_type": "stream",
          "name": "stdout",
          "text": [
            "root\n",
            " |-- Name: string (nullable = true)\n",
            " |-- Departments: string (nullable = true)\n",
            " |-- salary: integer (nullable = true)\n",
            "\n"
          ]
        }
      ]
    },
    {
      "cell_type": "code",
      "source": [
        "## Groupby\n",
        "### Grouped to find the maximum salary\n",
        "df_pyspark.groupBy('Name').sum().show()"
      ],
      "metadata": {
        "colab": {
          "base_uri": "https://localhost:8080/"
        },
        "id": "dxrKhg9PDLBy",
        "outputId": "ebf390e1-2d4f-475a-d4c0-6d946814a450"
      },
      "execution_count": 54,
      "outputs": [
        {
          "output_type": "stream",
          "name": "stdout",
          "text": [
            "+---------+-----------+\n",
            "|     Name|sum(salary)|\n",
            "+---------+-----------+\n",
            "|Sudhanshu|      35000|\n",
            "|    Sunny|      12000|\n",
            "|    Krish|      19000|\n",
            "|   Mahesh|       7000|\n",
            "+---------+-----------+\n",
            "\n"
          ]
        }
      ]
    },
    {
      "cell_type": "code",
      "source": [
        "df_pyspark.groupBy('Name').avg().show()"
      ],
      "metadata": {
        "colab": {
          "base_uri": "https://localhost:8080/"
        },
        "id": "JR_LwhBuDT_L",
        "outputId": "b424749d-4330-491e-8bec-bb3d2a586256"
      },
      "execution_count": 55,
      "outputs": [
        {
          "output_type": "stream",
          "name": "stdout",
          "text": [
            "+---------+------------------+\n",
            "|     Name|       avg(salary)|\n",
            "+---------+------------------+\n",
            "|Sudhanshu|11666.666666666666|\n",
            "|    Sunny|            6000.0|\n",
            "|    Krish| 6333.333333333333|\n",
            "|   Mahesh|            3500.0|\n",
            "+---------+------------------+\n",
            "\n"
          ]
        }
      ]
    },
    {
      "cell_type": "code",
      "source": [
        "### Groupby Departmernts  which gives maximum salary\n",
        "df_pyspark.groupBy('Departments').sum().show()"
      ],
      "metadata": {
        "colab": {
          "base_uri": "https://localhost:8080/"
        },
        "id": "ksdeBGqSDnx_",
        "outputId": "2788264b-4e00-4407-b94c-f6a411e9d952"
      },
      "execution_count": 56,
      "outputs": [
        {
          "output_type": "stream",
          "name": "stdout",
          "text": [
            "+------------+-----------+\n",
            "| Departments|sum(salary)|\n",
            "+------------+-----------+\n",
            "|         IOT|      15000|\n",
            "|    Big Data|      15000|\n",
            "|Data Science|      43000|\n",
            "+------------+-----------+\n",
            "\n"
          ]
        }
      ]
    },
    {
      "cell_type": "code",
      "source": [
        "df_pyspark.groupBy('Departments').mean().show()"
      ],
      "metadata": {
        "colab": {
          "base_uri": "https://localhost:8080/"
        },
        "id": "kg2SkS6xDzUj",
        "outputId": "615c4f4e-7d8c-4bfa-ef78-f267e8370f85"
      },
      "execution_count": 57,
      "outputs": [
        {
          "output_type": "stream",
          "name": "stdout",
          "text": [
            "+------------+-----------+\n",
            "| Departments|avg(salary)|\n",
            "+------------+-----------+\n",
            "|         IOT|     7500.0|\n",
            "|    Big Data|     3750.0|\n",
            "|Data Science|    10750.0|\n",
            "+------------+-----------+\n",
            "\n"
          ]
        }
      ]
    },
    {
      "cell_type": "code",
      "source": [
        "df_pyspark.groupBy('Departments').count().show()"
      ],
      "metadata": {
        "colab": {
          "base_uri": "https://localhost:8080/"
        },
        "id": "OjJ1qxupD28O",
        "outputId": "106ad8d4-f7ea-4c67-9ec4-19292c49967e"
      },
      "execution_count": 58,
      "outputs": [
        {
          "output_type": "stream",
          "name": "stdout",
          "text": [
            "+------------+-----+\n",
            "| Departments|count|\n",
            "+------------+-----+\n",
            "|         IOT|    2|\n",
            "|    Big Data|    4|\n",
            "|Data Science|    4|\n",
            "+------------+-----+\n",
            "\n"
          ]
        }
      ]
    },
    {
      "cell_type": "code",
      "source": [
        "df_pyspark.agg({'Salary':'sum'}).show()"
      ],
      "metadata": {
        "colab": {
          "base_uri": "https://localhost:8080/"
        },
        "id": "PLWoA3cHD55d",
        "outputId": "5fca6788-d65c-45cd-94e8-024162aad1be"
      },
      "execution_count": 59,
      "outputs": [
        {
          "output_type": "stream",
          "name": "stdout",
          "text": [
            "+-----------+\n",
            "|sum(Salary)|\n",
            "+-----------+\n",
            "|      73000|\n",
            "+-----------+\n",
            "\n"
          ]
        }
      ]
    },
    {
      "cell_type": "code",
      "source": [
        ""
      ],
      "metadata": {
        "id": "yZasR02tD94f"
      },
      "execution_count": null,
      "outputs": []
    }
  ]
}